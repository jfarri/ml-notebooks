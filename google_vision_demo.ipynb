{
  "nbformat": 4,
  "nbformat_minor": 0,
  "metadata": {
    "colab": {
      "name": "google-vision-demo.ipynb",
      "provenance": [],
      "authorship_tag": "ABX9TyNY5Iiz/qH4YJ7Y82OPDEEC",
      "include_colab_link": true
    },
    "kernelspec": {
      "name": "python3",
      "display_name": "Python 3"
    },
    "language_info": {
      "name": "python"
    }
  },
  "cells": [
    {
      "cell_type": "markdown",
      "metadata": {
        "id": "view-in-github",
        "colab_type": "text"
      },
      "source": [
        "<a href=\"https://colab.research.google.com/github/jfarri/ml-notebooks/blob/main/google_vision_demo.ipynb\" target=\"_parent\"><img src=\"https://colab.research.google.com/assets/colab-badge.svg\" alt=\"Open In Colab\"/></a>"
      ]
    },
    {
      "cell_type": "markdown",
      "source": [
        "Setup "
      ],
      "metadata": {
        "id": "-u_l7LMY8MDd"
      }
    },
    {
      "cell_type": "code",
      "execution_count": null,
      "metadata": {
        "id": "J6D5qTL47k06"
      },
      "outputs": [],
      "source": [
        "# Authenticate to GCP\n",
        "from google.colab import auth\n",
        "auth.authenticate_user()\n",
        "print('Authenticated')"
      ]
    },
    {
      "cell_type": "code",
      "source": [
        "# Set Project ID\n",
        "project_id = 'Project ID'\n",
        "!gcloud config set project {project_id}"
      ],
      "metadata": {
        "id": "xfOjJoKt8bdA"
      },
      "execution_count": null,
      "outputs": []
    },
    {
      "cell_type": "code",
      "source": [
        "# Confirm\n",
        "!gcloud auth list"
      ],
      "metadata": {
        "id": "sMkmJR0m8dNu"
      },
      "execution_count": null,
      "outputs": []
    },
    {
      "cell_type": "code",
      "source": [
        "# Upload Service Account Key\n",
        "from google.colab import files\n",
        "uploaded = files.upload()\n",
        "\n",
        "for fn in uploaded.keys():\n",
        "  print('User uploaded file \"{name}\" with length {length} bytes'.format(name=fn, length=len(uploaded[fn])))"
      ],
      "metadata": {
        "id": "zrjFgAmuHq4i"
      },
      "execution_count": null,
      "outputs": []
    },
    {
      "cell_type": "markdown",
      "source": [
        "Install GCP Packages"
      ],
      "metadata": {
        "id": "Z5w3O6VJ_roJ"
      }
    },
    {
      "cell_type": "code",
      "source": [
        "!pip install --upgrade google-cloud-vision\n",
        "!pip install --upgrade google-cloud-speech\n",
        "!pip install --upgrade google-cloud-language\n",
        "!pip install --upgrade google-cloud-texttospeech\n",
        "!pip install --upgrade google-cloud-videointelligence"
      ],
      "metadata": {
        "id": "kzbf6UtK_rKF"
      },
      "execution_count": null,
      "outputs": []
    },
    {
      "cell_type": "code",
      "source": [
        "! pip install --upgrade google-cloud-videointelligence"
      ],
      "metadata": {
        "id": "S5XlVLONCuA9"
      },
      "execution_count": null,
      "outputs": []
    },
    {
      "cell_type": "markdown",
      "source": [
        "Vision API Demo"
      ],
      "metadata": {
        "id": "r2vVA_FU7ywE"
      }
    },
    {
      "cell_type": "code",
      "source": [
        "import os\n",
        "import io\n",
        "\n",
        "from IPython.display import Image\n",
        "from google.cloud import vision"
      ],
      "metadata": {
        "id": "_W_r0HBB8jJK"
      },
      "execution_count": null,
      "outputs": []
    },
    {
      "cell_type": "code",
      "source": [
        "# Create a Vision API Client\n",
        "vision_client = vision.ImageAnnotatorClient()"
      ],
      "metadata": {
        "id": "jQjFqjHrEKwI"
      },
      "execution_count": null,
      "outputs": []
    },
    {
      "cell_type": "code",
      "source": [
        "# Set image path\n",
        "img_path = '/content/summit_image.png'"
      ],
      "metadata": {
        "id": "Y3RTDEmOER92"
      },
      "execution_count": null,
      "outputs": []
    },
    {
      "cell_type": "code",
      "source": [
        "# Display image\n",
        "Image(filename=img_path, width=800, height=500) "
      ],
      "metadata": {
        "id": "6nPc7fNcGAUM"
      },
      "execution_count": null,
      "outputs": []
    },
    {
      "cell_type": "code",
      "source": [
        "with io.open(img_path, 'rb') as image_file:\n",
        "    content = image_file.read()\n",
        "        \n",
        "image_object = vision.Image(content=content)"
      ],
      "metadata": {
        "id": "r0WB1sfuGPxE"
      },
      "execution_count": null,
      "outputs": []
    },
    {
      "cell_type": "code",
      "source": [
        "# Send a request to cloud vision api client to detect texts in input image\n",
        "response = vision_client.text_detection(image=image_object)"
      ],
      "metadata": {
        "id": "1Cuw-QdQGTiP"
      },
      "execution_count": null,
      "outputs": []
    }
  ]
}